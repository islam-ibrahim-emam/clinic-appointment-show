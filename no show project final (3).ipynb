{
 "cells": [
  {
   "cell_type": "markdown",
   "id": "51e49dd7",
   "metadata": {},
   "source": [
    "# NO Show Appointment project"
   ]
  },
  {
   "cell_type": "markdown",
   "id": "9dad2550",
   "metadata": {},
   "source": [
    "# Questions to be answerd \n",
    "\n",
    "Q1- what is the ovar all attendance persentage  ?\n",
    "\n",
    "Q2 -effection of SMS recived on Patient attendance  ?\n",
    "\n",
    "Q3- dose ppl with more age are most likely to attend the appointment  ?\n",
    "\n",
    "Q4- effection of gender on Patient attendance ?\n",
    "\n",
    "Q5- the relasion of having diseases on attendance ?\n",
    "\n",
    "Q6- effection of other factors "
   ]
  },
  {
   "cell_type": "code",
   "execution_count": 1,
   "id": "761433e3",
   "metadata": {},
   "outputs": [],
   "source": [
    "import pandas as pd\n",
    "import numpy as np\n",
    "import matplotlib.pyplot as plt\n",
    "import seaborn as sns\n",
    "%matplotlib inline\n",
    "\n",
    "df = pd.read_csv('noshowappointments-kagglev2-may-2016.csv')"
   ]
  },
  {
   "cell_type": "code",
   "execution_count": 2,
   "id": "cf1ed1c6",
   "metadata": {},
   "outputs": [
    {
     "data": {
      "text/html": [
       "<div>\n",
       "<style scoped>\n",
       "    .dataframe tbody tr th:only-of-type {\n",
       "        vertical-align: middle;\n",
       "    }\n",
       "\n",
       "    .dataframe tbody tr th {\n",
       "        vertical-align: top;\n",
       "    }\n",
       "\n",
       "    .dataframe thead th {\n",
       "        text-align: right;\n",
       "    }\n",
       "</style>\n",
       "<table border=\"1\" class=\"dataframe\">\n",
       "  <thead>\n",
       "    <tr style=\"text-align: right;\">\n",
       "      <th></th>\n",
       "      <th>PatientId</th>\n",
       "      <th>AppointmentID</th>\n",
       "      <th>Gender</th>\n",
       "      <th>ScheduledDay</th>\n",
       "      <th>AppointmentDay</th>\n",
       "      <th>Age</th>\n",
       "      <th>Neighbourhood</th>\n",
       "      <th>Scholarship</th>\n",
       "      <th>Hipertension</th>\n",
       "      <th>Diabetes</th>\n",
       "      <th>Alcoholism</th>\n",
       "      <th>Handcap</th>\n",
       "      <th>SMS_received</th>\n",
       "      <th>No-show</th>\n",
       "    </tr>\n",
       "  </thead>\n",
       "  <tbody>\n",
       "    <tr>\n",
       "      <th>0</th>\n",
       "      <td>2.987250e+13</td>\n",
       "      <td>5642903</td>\n",
       "      <td>F</td>\n",
       "      <td>2016-04-29T18:38:08Z</td>\n",
       "      <td>2016-04-29T00:00:00Z</td>\n",
       "      <td>62</td>\n",
       "      <td>JARDIM DA PENHA</td>\n",
       "      <td>0</td>\n",
       "      <td>1</td>\n",
       "      <td>0</td>\n",
       "      <td>0</td>\n",
       "      <td>0</td>\n",
       "      <td>0</td>\n",
       "      <td>No</td>\n",
       "    </tr>\n",
       "    <tr>\n",
       "      <th>1</th>\n",
       "      <td>5.589978e+14</td>\n",
       "      <td>5642503</td>\n",
       "      <td>M</td>\n",
       "      <td>2016-04-29T16:08:27Z</td>\n",
       "      <td>2016-04-29T00:00:00Z</td>\n",
       "      <td>56</td>\n",
       "      <td>JARDIM DA PENHA</td>\n",
       "      <td>0</td>\n",
       "      <td>0</td>\n",
       "      <td>0</td>\n",
       "      <td>0</td>\n",
       "      <td>0</td>\n",
       "      <td>0</td>\n",
       "      <td>No</td>\n",
       "    </tr>\n",
       "  </tbody>\n",
       "</table>\n",
       "</div>"
      ],
      "text/plain": [
       "      PatientId  AppointmentID Gender          ScheduledDay  \\\n",
       "0  2.987250e+13        5642903      F  2016-04-29T18:38:08Z   \n",
       "1  5.589978e+14        5642503      M  2016-04-29T16:08:27Z   \n",
       "\n",
       "         AppointmentDay  Age    Neighbourhood  Scholarship  Hipertension  \\\n",
       "0  2016-04-29T00:00:00Z   62  JARDIM DA PENHA            0             1   \n",
       "1  2016-04-29T00:00:00Z   56  JARDIM DA PENHA            0             0   \n",
       "\n",
       "   Diabetes  Alcoholism  Handcap  SMS_received No-show  \n",
       "0         0           0        0             0      No  \n",
       "1         0           0        0             0      No  "
      ]
     },
     "execution_count": 2,
     "metadata": {},
     "output_type": "execute_result"
    }
   ],
   "source": [
    "# to see the first 2 rows of my data\n",
    "df.head(2)"
   ]
  },
  {
   "cell_type": "code",
   "execution_count": 3,
   "id": "df9386d5",
   "metadata": {},
   "outputs": [],
   "source": [
    "def percentage(m0,m0t,m1,m1t):\n",
    "    \n",
    "    ''' this function is  to calculate the required missing percentage \n",
    "inputs you give the function 4 values \n",
    "m0  = No_of_0_factor_missed  (factor) any factor of the data set \n",
    "m0t = total_No_of_0_factor \n",
    "m1  = No_of_1_factor_missed\n",
    "m1t = total_No_of_1_factor\n",
    "\n",
    "output fuction return tow values\n",
    "\n",
    "x1 = percentage  of_0_factor_missed \n",
    "x2 =  percentage of_1_factor_missed '''\n",
    "    \n",
    "    percentage_of_0_missed = int((m0/m0t)*100)\n",
    "    percentage_of_1_missed = int((m1/m1t)*100)\n",
    "    \n",
    "    return ( percentage_of_0_missed , percentage_of_1_missed)"
   ]
  },
  {
   "cell_type": "code",
   "execution_count": 4,
   "id": "6d4d7495",
   "metadata": {},
   "outputs": [
    {
     "name": "stdout",
     "output_type": "stream",
     "text": [
      "<class 'pandas.core.frame.DataFrame'>\n",
      "RangeIndex: 110527 entries, 0 to 110526\n",
      "Data columns (total 14 columns):\n",
      " #   Column          Non-Null Count   Dtype  \n",
      "---  ------          --------------   -----  \n",
      " 0   PatientId       110527 non-null  float64\n",
      " 1   AppointmentID   110527 non-null  int64  \n",
      " 2   Gender          110527 non-null  object \n",
      " 3   ScheduledDay    110527 non-null  object \n",
      " 4   AppointmentDay  110527 non-null  object \n",
      " 5   Age             110527 non-null  int64  \n",
      " 6   Neighbourhood   110527 non-null  object \n",
      " 7   Scholarship     110527 non-null  int64  \n",
      " 8   Hipertension    110527 non-null  int64  \n",
      " 9   Diabetes        110527 non-null  int64  \n",
      " 10  Alcoholism      110527 non-null  int64  \n",
      " 11  Handcap         110527 non-null  int64  \n",
      " 12  SMS_received    110527 non-null  int64  \n",
      " 13  No-show         110527 non-null  object \n",
      "dtypes: float64(1), int64(8), object(5)\n",
      "memory usage: 11.8+ MB\n"
     ]
    }
   ],
   "source": [
    "#to see some info about data like type of data in every column and number of  no nul values \n",
    "#its seams that we dont have nul  values in our data \n",
    "df.info();"
   ]
  },
  {
   "cell_type": "markdown",
   "id": "1d6f920d",
   "metadata": {},
   "source": [
    "# data cleaning  \n",
    " removing duplicated rows and null values "
   ]
  },
  {
   "cell_type": "markdown",
   "id": "a1b64431",
   "metadata": {},
   "source": [
    "#to get number of duplicated raw (no need to remove any thing as  our duplicated rows = zero )"
   ]
  },
  {
   "cell_type": "code",
   "execution_count": 5,
   "id": "8a499874",
   "metadata": {},
   "outputs": [
    {
     "data": {
      "text/plain": [
       "0"
      ]
     },
     "execution_count": 5,
     "metadata": {},
     "output_type": "execute_result"
    }
   ],
   "source": [
    "df.duplicated().sum().sum()"
   ]
  },
  {
   "cell_type": "markdown",
   "id": "9594ef65",
   "metadata": {},
   "source": [
    "#to get the number of null values in our data set  (no need to remove any thing )"
   ]
  },
  {
   "cell_type": "code",
   "execution_count": 6,
   "id": "c48cb897",
   "metadata": {},
   "outputs": [
    {
     "data": {
      "text/plain": [
       "0"
      ]
     },
     "execution_count": 6,
     "metadata": {},
     "output_type": "execute_result"
    }
   ],
   "source": [
    "df.isnull().sum().sum()"
   ]
  },
  {
   "cell_type": "markdown",
   "id": "e7b9f1bd",
   "metadata": {},
   "source": [
    "#i need to make all columns name lower case so i dont need to remember which is uper and lower so i prefere to do this \n",
    "#also i found out that in no-show ther was - and as we learn in naming good practise to use _ instead of - so i change it "
   ]
  },
  {
   "cell_type": "code",
   "execution_count": 7,
   "id": "c57ba78b",
   "metadata": {},
   "outputs": [
    {
     "data": {
      "text/html": [
       "<div>\n",
       "<style scoped>\n",
       "    .dataframe tbody tr th:only-of-type {\n",
       "        vertical-align: middle;\n",
       "    }\n",
       "\n",
       "    .dataframe tbody tr th {\n",
       "        vertical-align: top;\n",
       "    }\n",
       "\n",
       "    .dataframe thead th {\n",
       "        text-align: right;\n",
       "    }\n",
       "</style>\n",
       "<table border=\"1\" class=\"dataframe\">\n",
       "  <thead>\n",
       "    <tr style=\"text-align: right;\">\n",
       "      <th></th>\n",
       "      <th>patientid</th>\n",
       "      <th>appointmentid</th>\n",
       "      <th>gender</th>\n",
       "      <th>scheduledday</th>\n",
       "      <th>appointmentday</th>\n",
       "      <th>age</th>\n",
       "      <th>neighbourhood</th>\n",
       "      <th>scholarship</th>\n",
       "      <th>hipertension</th>\n",
       "      <th>diabetes</th>\n",
       "      <th>alcoholism</th>\n",
       "      <th>handcap</th>\n",
       "      <th>sms_received</th>\n",
       "      <th>no_show</th>\n",
       "    </tr>\n",
       "  </thead>\n",
       "  <tbody>\n",
       "    <tr>\n",
       "      <th>0</th>\n",
       "      <td>2.987250e+13</td>\n",
       "      <td>5642903</td>\n",
       "      <td>F</td>\n",
       "      <td>2016-04-29T18:38:08Z</td>\n",
       "      <td>2016-04-29T00:00:00Z</td>\n",
       "      <td>62</td>\n",
       "      <td>JARDIM DA PENHA</td>\n",
       "      <td>0</td>\n",
       "      <td>1</td>\n",
       "      <td>0</td>\n",
       "      <td>0</td>\n",
       "      <td>0</td>\n",
       "      <td>0</td>\n",
       "      <td>No</td>\n",
       "    </tr>\n",
       "    <tr>\n",
       "      <th>1</th>\n",
       "      <td>5.589978e+14</td>\n",
       "      <td>5642503</td>\n",
       "      <td>M</td>\n",
       "      <td>2016-04-29T16:08:27Z</td>\n",
       "      <td>2016-04-29T00:00:00Z</td>\n",
       "      <td>56</td>\n",
       "      <td>JARDIM DA PENHA</td>\n",
       "      <td>0</td>\n",
       "      <td>0</td>\n",
       "      <td>0</td>\n",
       "      <td>0</td>\n",
       "      <td>0</td>\n",
       "      <td>0</td>\n",
       "      <td>No</td>\n",
       "    </tr>\n",
       "  </tbody>\n",
       "</table>\n",
       "</div>"
      ],
      "text/plain": [
       "      patientid  appointmentid gender          scheduledday  \\\n",
       "0  2.987250e+13        5642903      F  2016-04-29T18:38:08Z   \n",
       "1  5.589978e+14        5642503      M  2016-04-29T16:08:27Z   \n",
       "\n",
       "         appointmentday  age    neighbourhood  scholarship  hipertension  \\\n",
       "0  2016-04-29T00:00:00Z   62  JARDIM DA PENHA            0             1   \n",
       "1  2016-04-29T00:00:00Z   56  JARDIM DA PENHA            0             0   \n",
       "\n",
       "   diabetes  alcoholism  handcap  sms_received no_show  \n",
       "0         0           0        0             0      No  \n",
       "1         0           0        0             0      No  "
      ]
     },
     "execution_count": 7,
     "metadata": {},
     "output_type": "execute_result"
    }
   ],
   "source": [
    "df.rename(columns=lambda x: x.strip().lower().replace(\"-\", \"_\"), inplace=True)\n",
    "df.head(2)"
   ]
  },
  {
   "cell_type": "markdown",
   "id": "493d1dfc",
   "metadata": {},
   "source": [
    "conferm that every thing is lower case now and - replaced with _"
   ]
  },
  {
   "cell_type": "code",
   "execution_count": 8,
   "id": "67cb2f60",
   "metadata": {},
   "outputs": [
    {
     "data": {
      "text/plain": [
       "Index(['patientid', 'appointmentid', 'gender', 'scheduledday',\n",
       "       'appointmentday', 'age', 'neighbourhood', 'scholarship', 'hipertension',\n",
       "       'diabetes', 'alcoholism', 'handcap', 'sms_received', 'no_show'],\n",
       "      dtype='object')"
      ]
     },
     "execution_count": 8,
     "metadata": {},
     "output_type": "execute_result"
    }
   ],
   "source": [
    "df.columns"
   ]
  },
  {
   "cell_type": "markdown",
   "id": "1c49b712",
   "metadata": {},
   "source": [
    "i saw some columns name are hard to read and some having typing mistakes so i will correct it \n",
    "fixing spelling problems in {handcap ,hipertension} and unreadable name problem like {appointmentid} and use beter name to {scholarship} called {health_insurance}"
   ]
  },
  {
   "cell_type": "code",
   "execution_count": 9,
   "id": "97199921",
   "metadata": {},
   "outputs": [
    {
     "data": {
      "text/html": [
       "<div>\n",
       "<style scoped>\n",
       "    .dataframe tbody tr th:only-of-type {\n",
       "        vertical-align: middle;\n",
       "    }\n",
       "\n",
       "    .dataframe tbody tr th {\n",
       "        vertical-align: top;\n",
       "    }\n",
       "\n",
       "    .dataframe thead th {\n",
       "        text-align: right;\n",
       "    }\n",
       "</style>\n",
       "<table border=\"1\" class=\"dataframe\">\n",
       "  <thead>\n",
       "    <tr style=\"text-align: right;\">\n",
       "      <th></th>\n",
       "      <th>patient_id</th>\n",
       "      <th>appointment_id</th>\n",
       "      <th>gender</th>\n",
       "      <th>scheduled_day</th>\n",
       "      <th>appointment_day</th>\n",
       "      <th>age</th>\n",
       "      <th>neighbourhood</th>\n",
       "      <th>health_insurance</th>\n",
       "      <th>hypertension</th>\n",
       "      <th>diabetes</th>\n",
       "      <th>alcoholism</th>\n",
       "      <th>handicap</th>\n",
       "      <th>sms_received</th>\n",
       "      <th>no_show</th>\n",
       "    </tr>\n",
       "  </thead>\n",
       "  <tbody>\n",
       "    <tr>\n",
       "      <th>0</th>\n",
       "      <td>2.987250e+13</td>\n",
       "      <td>5642903</td>\n",
       "      <td>F</td>\n",
       "      <td>2016-04-29T18:38:08Z</td>\n",
       "      <td>2016-04-29T00:00:00Z</td>\n",
       "      <td>62</td>\n",
       "      <td>JARDIM DA PENHA</td>\n",
       "      <td>0</td>\n",
       "      <td>1</td>\n",
       "      <td>0</td>\n",
       "      <td>0</td>\n",
       "      <td>0</td>\n",
       "      <td>0</td>\n",
       "      <td>No</td>\n",
       "    </tr>\n",
       "    <tr>\n",
       "      <th>1</th>\n",
       "      <td>5.589978e+14</td>\n",
       "      <td>5642503</td>\n",
       "      <td>M</td>\n",
       "      <td>2016-04-29T16:08:27Z</td>\n",
       "      <td>2016-04-29T00:00:00Z</td>\n",
       "      <td>56</td>\n",
       "      <td>JARDIM DA PENHA</td>\n",
       "      <td>0</td>\n",
       "      <td>0</td>\n",
       "      <td>0</td>\n",
       "      <td>0</td>\n",
       "      <td>0</td>\n",
       "      <td>0</td>\n",
       "      <td>No</td>\n",
       "    </tr>\n",
       "  </tbody>\n",
       "</table>\n",
       "</div>"
      ],
      "text/plain": [
       "     patient_id  appointment_id gender         scheduled_day  \\\n",
       "0  2.987250e+13         5642903      F  2016-04-29T18:38:08Z   \n",
       "1  5.589978e+14         5642503      M  2016-04-29T16:08:27Z   \n",
       "\n",
       "        appointment_day  age    neighbourhood  health_insurance  hypertension  \\\n",
       "0  2016-04-29T00:00:00Z   62  JARDIM DA PENHA                 0             1   \n",
       "1  2016-04-29T00:00:00Z   56  JARDIM DA PENHA                 0             0   \n",
       "\n",
       "   diabetes  alcoholism  handicap  sms_received no_show  \n",
       "0         0           0         0             0      No  \n",
       "1         0           0         0             0      No  "
      ]
     },
     "execution_count": 9,
     "metadata": {},
     "output_type": "execute_result"
    }
   ],
   "source": [
    "df.rename(columns={'patientid':'patient_id', 'appointmentid':'appointment_id', 'scheduledday':'scheduled_day', 'appointmentday':\n",
    "                  'appointment_day', 'scholarship':'health_insurance', 'hipertension':'hypertension', 'handcap':'handicap'},inplace=True)\n",
    "df.head(2)"
   ]
  },
  {
   "cell_type": "markdown",
   "id": "ef735edc",
   "metadata": {},
   "source": [
    "deleting coloms that i will not need in my data investigation process "
   ]
  },
  {
   "cell_type": "code",
   "execution_count": 10,
   "id": "3329bc07",
   "metadata": {},
   "outputs": [
    {
     "data": {
      "text/html": [
       "<div>\n",
       "<style scoped>\n",
       "    .dataframe tbody tr th:only-of-type {\n",
       "        vertical-align: middle;\n",
       "    }\n",
       "\n",
       "    .dataframe tbody tr th {\n",
       "        vertical-align: top;\n",
       "    }\n",
       "\n",
       "    .dataframe thead th {\n",
       "        text-align: right;\n",
       "    }\n",
       "</style>\n",
       "<table border=\"1\" class=\"dataframe\">\n",
       "  <thead>\n",
       "    <tr style=\"text-align: right;\">\n",
       "      <th></th>\n",
       "      <th>gender</th>\n",
       "      <th>age</th>\n",
       "      <th>neighbourhood</th>\n",
       "      <th>health_insurance</th>\n",
       "      <th>hypertension</th>\n",
       "      <th>diabetes</th>\n",
       "      <th>alcoholism</th>\n",
       "      <th>handicap</th>\n",
       "      <th>sms_received</th>\n",
       "      <th>no_show</th>\n",
       "    </tr>\n",
       "  </thead>\n",
       "  <tbody>\n",
       "    <tr>\n",
       "      <th>0</th>\n",
       "      <td>F</td>\n",
       "      <td>62</td>\n",
       "      <td>JARDIM DA PENHA</td>\n",
       "      <td>0</td>\n",
       "      <td>1</td>\n",
       "      <td>0</td>\n",
       "      <td>0</td>\n",
       "      <td>0</td>\n",
       "      <td>0</td>\n",
       "      <td>No</td>\n",
       "    </tr>\n",
       "    <tr>\n",
       "      <th>1</th>\n",
       "      <td>M</td>\n",
       "      <td>56</td>\n",
       "      <td>JARDIM DA PENHA</td>\n",
       "      <td>0</td>\n",
       "      <td>0</td>\n",
       "      <td>0</td>\n",
       "      <td>0</td>\n",
       "      <td>0</td>\n",
       "      <td>0</td>\n",
       "      <td>No</td>\n",
       "    </tr>\n",
       "  </tbody>\n",
       "</table>\n",
       "</div>"
      ],
      "text/plain": [
       "  gender  age    neighbourhood  health_insurance  hypertension  diabetes  \\\n",
       "0      F   62  JARDIM DA PENHA                 0             1         0   \n",
       "1      M   56  JARDIM DA PENHA                 0             0         0   \n",
       "\n",
       "   alcoholism  handicap  sms_received no_show  \n",
       "0           0         0             0      No  \n",
       "1           0         0             0      No  "
      ]
     },
     "execution_count": 10,
     "metadata": {},
     "output_type": "execute_result"
    }
   ],
   "source": [
    "df = df.drop(['patient_id', 'appointment_id', 'scheduled_day', 'appointment_day'], axis=1)\n",
    "\n",
    "df.head(2)"
   ]
  },
  {
   "cell_type": "markdown",
   "id": "23987ee0",
   "metadata": {},
   "source": [
    "save new datasets in case we lost data as hold point to work with next day "
   ]
  },
  {
   "cell_type": "code",
   "execution_count": 11,
   "id": "e4a6ae52",
   "metadata": {},
   "outputs": [],
   "source": [
    "df.to_csv('no_show_clean_1.csv', index=False)"
   ]
  },
  {
   "cell_type": "code",
   "execution_count": 12,
   "id": "530484a1",
   "metadata": {},
   "outputs": [
    {
     "data": {
      "text/html": [
       "<div>\n",
       "<style scoped>\n",
       "    .dataframe tbody tr th:only-of-type {\n",
       "        vertical-align: middle;\n",
       "    }\n",
       "\n",
       "    .dataframe tbody tr th {\n",
       "        vertical-align: top;\n",
       "    }\n",
       "\n",
       "    .dataframe thead th {\n",
       "        text-align: right;\n",
       "    }\n",
       "</style>\n",
       "<table border=\"1\" class=\"dataframe\">\n",
       "  <thead>\n",
       "    <tr style=\"text-align: right;\">\n",
       "      <th></th>\n",
       "      <th>age</th>\n",
       "      <th>health_insurance</th>\n",
       "      <th>hypertension</th>\n",
       "      <th>diabetes</th>\n",
       "      <th>alcoholism</th>\n",
       "      <th>handicap</th>\n",
       "      <th>sms_received</th>\n",
       "    </tr>\n",
       "  </thead>\n",
       "  <tbody>\n",
       "    <tr>\n",
       "      <th>count</th>\n",
       "      <td>110527.000000</td>\n",
       "      <td>110527.000000</td>\n",
       "      <td>110527.000000</td>\n",
       "      <td>110527.000000</td>\n",
       "      <td>110527.000000</td>\n",
       "      <td>110527.000000</td>\n",
       "      <td>110527.000000</td>\n",
       "    </tr>\n",
       "    <tr>\n",
       "      <th>mean</th>\n",
       "      <td>37.088874</td>\n",
       "      <td>0.098266</td>\n",
       "      <td>0.197246</td>\n",
       "      <td>0.071865</td>\n",
       "      <td>0.030400</td>\n",
       "      <td>0.022248</td>\n",
       "      <td>0.321026</td>\n",
       "    </tr>\n",
       "    <tr>\n",
       "      <th>std</th>\n",
       "      <td>23.110205</td>\n",
       "      <td>0.297675</td>\n",
       "      <td>0.397921</td>\n",
       "      <td>0.258265</td>\n",
       "      <td>0.171686</td>\n",
       "      <td>0.161543</td>\n",
       "      <td>0.466873</td>\n",
       "    </tr>\n",
       "    <tr>\n",
       "      <th>min</th>\n",
       "      <td>-1.000000</td>\n",
       "      <td>0.000000</td>\n",
       "      <td>0.000000</td>\n",
       "      <td>0.000000</td>\n",
       "      <td>0.000000</td>\n",
       "      <td>0.000000</td>\n",
       "      <td>0.000000</td>\n",
       "    </tr>\n",
       "    <tr>\n",
       "      <th>25%</th>\n",
       "      <td>18.000000</td>\n",
       "      <td>0.000000</td>\n",
       "      <td>0.000000</td>\n",
       "      <td>0.000000</td>\n",
       "      <td>0.000000</td>\n",
       "      <td>0.000000</td>\n",
       "      <td>0.000000</td>\n",
       "    </tr>\n",
       "    <tr>\n",
       "      <th>50%</th>\n",
       "      <td>37.000000</td>\n",
       "      <td>0.000000</td>\n",
       "      <td>0.000000</td>\n",
       "      <td>0.000000</td>\n",
       "      <td>0.000000</td>\n",
       "      <td>0.000000</td>\n",
       "      <td>0.000000</td>\n",
       "    </tr>\n",
       "    <tr>\n",
       "      <th>75%</th>\n",
       "      <td>55.000000</td>\n",
       "      <td>0.000000</td>\n",
       "      <td>0.000000</td>\n",
       "      <td>0.000000</td>\n",
       "      <td>0.000000</td>\n",
       "      <td>0.000000</td>\n",
       "      <td>1.000000</td>\n",
       "    </tr>\n",
       "    <tr>\n",
       "      <th>max</th>\n",
       "      <td>115.000000</td>\n",
       "      <td>1.000000</td>\n",
       "      <td>1.000000</td>\n",
       "      <td>1.000000</td>\n",
       "      <td>1.000000</td>\n",
       "      <td>4.000000</td>\n",
       "      <td>1.000000</td>\n",
       "    </tr>\n",
       "  </tbody>\n",
       "</table>\n",
       "</div>"
      ],
      "text/plain": [
       "                 age  health_insurance   hypertension       diabetes  \\\n",
       "count  110527.000000     110527.000000  110527.000000  110527.000000   \n",
       "mean       37.088874          0.098266       0.197246       0.071865   \n",
       "std        23.110205          0.297675       0.397921       0.258265   \n",
       "min        -1.000000          0.000000       0.000000       0.000000   \n",
       "25%        18.000000          0.000000       0.000000       0.000000   \n",
       "50%        37.000000          0.000000       0.000000       0.000000   \n",
       "75%        55.000000          0.000000       0.000000       0.000000   \n",
       "max       115.000000          1.000000       1.000000       1.000000   \n",
       "\n",
       "          alcoholism       handicap   sms_received  \n",
       "count  110527.000000  110527.000000  110527.000000  \n",
       "mean        0.030400       0.022248       0.321026  \n",
       "std         0.171686       0.161543       0.466873  \n",
       "min         0.000000       0.000000       0.000000  \n",
       "25%         0.000000       0.000000       0.000000  \n",
       "50%         0.000000       0.000000       0.000000  \n",
       "75%         0.000000       0.000000       1.000000  \n",
       "max         1.000000       4.000000       1.000000  "
      ]
     },
     "execution_count": 12,
     "metadata": {},
     "output_type": "execute_result"
    }
   ],
   "source": [
    "df.describe()"
   ]
  },
  {
   "cell_type": "markdown",
   "id": "cacb16c0",
   "metadata": {},
   "source": [
    "we need to remove the age -1 and age 0  and replace it with the mean value "
   ]
  },
  {
   "cell_type": "code",
   "execution_count": 13,
   "id": "8a3db8c8",
   "metadata": {},
   "outputs": [],
   "source": [
    "df['age'].replace([0,-1],[(df.age.mean()),(df.age.mean())], inplace=True)"
   ]
  },
  {
   "cell_type": "markdown",
   "id": "919f2ed3",
   "metadata": {},
   "source": [
    "confirm that ther is no 0 or (-) negative  values in age columns any more "
   ]
  },
  {
   "cell_type": "code",
   "execution_count": 14,
   "id": "dae1eeed",
   "metadata": {},
   "outputs": [
    {
     "data": {
      "text/html": [
       "<div>\n",
       "<style scoped>\n",
       "    .dataframe tbody tr th:only-of-type {\n",
       "        vertical-align: middle;\n",
       "    }\n",
       "\n",
       "    .dataframe tbody tr th {\n",
       "        vertical-align: top;\n",
       "    }\n",
       "\n",
       "    .dataframe thead th {\n",
       "        text-align: right;\n",
       "    }\n",
       "</style>\n",
       "<table border=\"1\" class=\"dataframe\">\n",
       "  <thead>\n",
       "    <tr style=\"text-align: right;\">\n",
       "      <th></th>\n",
       "      <th>gender</th>\n",
       "      <th>age</th>\n",
       "      <th>neighbourhood</th>\n",
       "      <th>health_insurance</th>\n",
       "      <th>hypertension</th>\n",
       "      <th>diabetes</th>\n",
       "      <th>alcoholism</th>\n",
       "      <th>handicap</th>\n",
       "      <th>sms_received</th>\n",
       "      <th>no_show</th>\n",
       "    </tr>\n",
       "  </thead>\n",
       "  <tbody>\n",
       "  </tbody>\n",
       "</table>\n",
       "</div>"
      ],
      "text/plain": [
       "Empty DataFrame\n",
       "Columns: [gender, age, neighbourhood, health_insurance, hypertension, diabetes, alcoholism, handicap, sms_received, no_show]\n",
       "Index: []"
      ]
     },
     "execution_count": 14,
     "metadata": {},
     "output_type": "execute_result"
    }
   ],
   "source": [
    "df_0_new = df.query('age <= 0')\n",
    "df_0_new.head()"
   ]
  },
  {
   "cell_type": "code",
   "execution_count": 15,
   "id": "fa5f428b",
   "metadata": {},
   "outputs": [
    {
     "name": "stdout",
     "output_type": "stream",
     "text": [
      "<class 'pandas.core.frame.DataFrame'>\n",
      "RangeIndex: 110527 entries, 0 to 110526\n",
      "Data columns (total 10 columns):\n",
      " #   Column            Non-Null Count   Dtype  \n",
      "---  ------            --------------   -----  \n",
      " 0   gender            110527 non-null  object \n",
      " 1   age               110527 non-null  float64\n",
      " 2   neighbourhood     110527 non-null  object \n",
      " 3   health_insurance  110527 non-null  int64  \n",
      " 4   hypertension      110527 non-null  int64  \n",
      " 5   diabetes          110527 non-null  int64  \n",
      " 6   alcoholism        110527 non-null  int64  \n",
      " 7   handicap          110527 non-null  int64  \n",
      " 8   sms_received      110527 non-null  int64  \n",
      " 9   no_show           110527 non-null  object \n",
      "dtypes: float64(1), int64(6), object(3)\n",
      "memory usage: 8.4+ MB\n"
     ]
    }
   ],
   "source": [
    "df.info()"
   ]
  },
  {
   "cell_type": "code",
   "execution_count": 16,
   "id": "c268285b",
   "metadata": {},
   "outputs": [
    {
     "data": {
      "text/html": [
       "<div>\n",
       "<style scoped>\n",
       "    .dataframe tbody tr th:only-of-type {\n",
       "        vertical-align: middle;\n",
       "    }\n",
       "\n",
       "    .dataframe tbody tr th {\n",
       "        vertical-align: top;\n",
       "    }\n",
       "\n",
       "    .dataframe thead th {\n",
       "        text-align: right;\n",
       "    }\n",
       "</style>\n",
       "<table border=\"1\" class=\"dataframe\">\n",
       "  <thead>\n",
       "    <tr style=\"text-align: right;\">\n",
       "      <th></th>\n",
       "      <th>gender</th>\n",
       "      <th>age</th>\n",
       "      <th>neighbourhood</th>\n",
       "      <th>health_insurance</th>\n",
       "      <th>hypertension</th>\n",
       "      <th>diabetes</th>\n",
       "      <th>alcoholism</th>\n",
       "      <th>handicap</th>\n",
       "      <th>sms_received</th>\n",
       "      <th>no_show</th>\n",
       "    </tr>\n",
       "  </thead>\n",
       "  <tbody>\n",
       "    <tr>\n",
       "      <th>0</th>\n",
       "      <td>F</td>\n",
       "      <td>62.0</td>\n",
       "      <td>JARDIM DA PENHA</td>\n",
       "      <td>0</td>\n",
       "      <td>1</td>\n",
       "      <td>0</td>\n",
       "      <td>0</td>\n",
       "      <td>0</td>\n",
       "      <td>0</td>\n",
       "      <td>No</td>\n",
       "    </tr>\n",
       "    <tr>\n",
       "      <th>1</th>\n",
       "      <td>M</td>\n",
       "      <td>56.0</td>\n",
       "      <td>JARDIM DA PENHA</td>\n",
       "      <td>0</td>\n",
       "      <td>0</td>\n",
       "      <td>0</td>\n",
       "      <td>0</td>\n",
       "      <td>0</td>\n",
       "      <td>0</td>\n",
       "      <td>No</td>\n",
       "    </tr>\n",
       "    <tr>\n",
       "      <th>2</th>\n",
       "      <td>F</td>\n",
       "      <td>62.0</td>\n",
       "      <td>MATA DA PRAIA</td>\n",
       "      <td>0</td>\n",
       "      <td>0</td>\n",
       "      <td>0</td>\n",
       "      <td>0</td>\n",
       "      <td>0</td>\n",
       "      <td>0</td>\n",
       "      <td>No</td>\n",
       "    </tr>\n",
       "    <tr>\n",
       "      <th>3</th>\n",
       "      <td>F</td>\n",
       "      <td>8.0</td>\n",
       "      <td>PONTAL DE CAMBURI</td>\n",
       "      <td>0</td>\n",
       "      <td>0</td>\n",
       "      <td>0</td>\n",
       "      <td>0</td>\n",
       "      <td>0</td>\n",
       "      <td>0</td>\n",
       "      <td>No</td>\n",
       "    </tr>\n",
       "    <tr>\n",
       "      <th>4</th>\n",
       "      <td>F</td>\n",
       "      <td>56.0</td>\n",
       "      <td>JARDIM DA PENHA</td>\n",
       "      <td>0</td>\n",
       "      <td>1</td>\n",
       "      <td>1</td>\n",
       "      <td>0</td>\n",
       "      <td>0</td>\n",
       "      <td>0</td>\n",
       "      <td>No</td>\n",
       "    </tr>\n",
       "  </tbody>\n",
       "</table>\n",
       "</div>"
      ],
      "text/plain": [
       "  gender   age      neighbourhood  health_insurance  hypertension  diabetes  \\\n",
       "0      F  62.0    JARDIM DA PENHA                 0             1         0   \n",
       "1      M  56.0    JARDIM DA PENHA                 0             0         0   \n",
       "2      F  62.0      MATA DA PRAIA                 0             0         0   \n",
       "3      F   8.0  PONTAL DE CAMBURI                 0             0         0   \n",
       "4      F  56.0    JARDIM DA PENHA                 0             1         1   \n",
       "\n",
       "   alcoholism  handicap  sms_received no_show  \n",
       "0           0         0             0      No  \n",
       "1           0         0             0      No  \n",
       "2           0         0             0      No  \n",
       "3           0         0             0      No  \n",
       "4           0         0             0      No  "
      ]
     },
     "execution_count": 16,
     "metadata": {},
     "output_type": "execute_result"
    }
   ],
   "source": [
    "df.head()"
   ]
  },
  {
   "cell_type": "markdown",
   "id": "8a316738",
   "metadata": {},
   "source": [
    "Exploratory Data Analysis"
   ]
  },
  {
   "cell_type": "markdown",
   "id": "0d05ebbe",
   "metadata": {},
   "source": [
    "# Q1- answer \n",
    "\n",
    "we first need to knew how many ppl attend and how many ppl missed ther appointment to answer our first qeustion \n"
   ]
  },
  {
   "cell_type": "code",
   "execution_count": 17,
   "id": "b86bdd46",
   "metadata": {},
   "outputs": [
    {
     "data": {
      "text/plain": [
       "No     88208\n",
       "Yes    22319\n",
       "Name: no_show, dtype: int64"
      ]
     },
     "execution_count": 17,
     "metadata": {},
     "output_type": "execute_result"
    }
   ],
   "source": [
    "df.no_show.value_counts()"
   ]
  },
  {
   "cell_type": "markdown",
   "id": "3c1422e1",
   "metadata": {},
   "source": [
    "creat mask of attend(no_show == No)  and missed (no_show==Yes) because it confuse me alittle bit"
   ]
  },
  {
   "cell_type": "code",
   "execution_count": 18,
   "id": "49515407",
   "metadata": {},
   "outputs": [
    {
     "data": {
      "text/plain": [
       "88208"
      ]
     },
     "execution_count": 18,
     "metadata": {},
     "output_type": "execute_result"
    }
   ],
   "source": [
    "attend = df[df['no_show'] == 'No']\n",
    "missed = df[df['no_show'] == 'Yes']\n",
    "\n",
    "attend.count().unique()[0]"
   ]
  },
  {
   "cell_type": "code",
   "execution_count": 19,
   "id": "9e263fc2",
   "metadata": {},
   "outputs": [
    {
     "data": {
      "text/plain": [
       "22319"
      ]
     },
     "execution_count": 19,
     "metadata": {},
     "output_type": "execute_result"
    }
   ],
   "source": [
    "missed.count().unique()[0]"
   ]
  },
  {
   "cell_type": "markdown",
   "id": "f0180214",
   "metadata": {},
   "source": [
    "we have more ppl attend than not attended "
   ]
  },
  {
   "cell_type": "code",
   "execution_count": 20,
   "id": "259ab10a",
   "metadata": {},
   "outputs": [
    {
     "data": {
      "text/html": [
       "<div>\n",
       "<style scoped>\n",
       "    .dataframe tbody tr th:only-of-type {\n",
       "        vertical-align: middle;\n",
       "    }\n",
       "\n",
       "    .dataframe tbody tr th {\n",
       "        vertical-align: top;\n",
       "    }\n",
       "\n",
       "    .dataframe thead th {\n",
       "        text-align: right;\n",
       "    }\n",
       "</style>\n",
       "<table border=\"1\" class=\"dataframe\">\n",
       "  <thead>\n",
       "    <tr style=\"text-align: right;\">\n",
       "      <th></th>\n",
       "      <th>gender</th>\n",
       "      <th>age</th>\n",
       "      <th>neighbourhood</th>\n",
       "      <th>health_insurance</th>\n",
       "      <th>hypertension</th>\n",
       "      <th>diabetes</th>\n",
       "      <th>alcoholism</th>\n",
       "      <th>handicap</th>\n",
       "      <th>sms_received</th>\n",
       "      <th>no_show</th>\n",
       "    </tr>\n",
       "  </thead>\n",
       "  <tbody>\n",
       "    <tr>\n",
       "      <th>0</th>\n",
       "      <td>F</td>\n",
       "      <td>62.0</td>\n",
       "      <td>JARDIM DA PENHA</td>\n",
       "      <td>0</td>\n",
       "      <td>1</td>\n",
       "      <td>0</td>\n",
       "      <td>0</td>\n",
       "      <td>0</td>\n",
       "      <td>0</td>\n",
       "      <td>No</td>\n",
       "    </tr>\n",
       "    <tr>\n",
       "      <th>1</th>\n",
       "      <td>M</td>\n",
       "      <td>56.0</td>\n",
       "      <td>JARDIM DA PENHA</td>\n",
       "      <td>0</td>\n",
       "      <td>0</td>\n",
       "      <td>0</td>\n",
       "      <td>0</td>\n",
       "      <td>0</td>\n",
       "      <td>0</td>\n",
       "      <td>No</td>\n",
       "    </tr>\n",
       "    <tr>\n",
       "      <th>2</th>\n",
       "      <td>F</td>\n",
       "      <td>62.0</td>\n",
       "      <td>MATA DA PRAIA</td>\n",
       "      <td>0</td>\n",
       "      <td>0</td>\n",
       "      <td>0</td>\n",
       "      <td>0</td>\n",
       "      <td>0</td>\n",
       "      <td>0</td>\n",
       "      <td>No</td>\n",
       "    </tr>\n",
       "    <tr>\n",
       "      <th>3</th>\n",
       "      <td>F</td>\n",
       "      <td>8.0</td>\n",
       "      <td>PONTAL DE CAMBURI</td>\n",
       "      <td>0</td>\n",
       "      <td>0</td>\n",
       "      <td>0</td>\n",
       "      <td>0</td>\n",
       "      <td>0</td>\n",
       "      <td>0</td>\n",
       "      <td>No</td>\n",
       "    </tr>\n",
       "    <tr>\n",
       "      <th>4</th>\n",
       "      <td>F</td>\n",
       "      <td>56.0</td>\n",
       "      <td>JARDIM DA PENHA</td>\n",
       "      <td>0</td>\n",
       "      <td>1</td>\n",
       "      <td>1</td>\n",
       "      <td>0</td>\n",
       "      <td>0</td>\n",
       "      <td>0</td>\n",
       "      <td>No</td>\n",
       "    </tr>\n",
       "  </tbody>\n",
       "</table>\n",
       "</div>"
      ],
      "text/plain": [
       "  gender   age      neighbourhood  health_insurance  hypertension  diabetes  \\\n",
       "0      F  62.0    JARDIM DA PENHA                 0             1         0   \n",
       "1      M  56.0    JARDIM DA PENHA                 0             0         0   \n",
       "2      F  62.0      MATA DA PRAIA                 0             0         0   \n",
       "3      F   8.0  PONTAL DE CAMBURI                 0             0         0   \n",
       "4      F  56.0    JARDIM DA PENHA                 0             1         1   \n",
       "\n",
       "   alcoholism  handicap  sms_received no_show  \n",
       "0           0         0             0      No  \n",
       "1           0         0             0      No  \n",
       "2           0         0             0      No  \n",
       "3           0         0             0      No  \n",
       "4           0         0             0      No  "
      ]
     },
     "execution_count": 20,
     "metadata": {},
     "output_type": "execute_result"
    }
   ],
   "source": [
    "attend.head()"
   ]
  },
  {
   "cell_type": "code",
   "execution_count": 21,
   "id": "38ce3ddb",
   "metadata": {},
   "outputs": [
    {
     "data": {
      "text/html": [
       "<div>\n",
       "<style scoped>\n",
       "    .dataframe tbody tr th:only-of-type {\n",
       "        vertical-align: middle;\n",
       "    }\n",
       "\n",
       "    .dataframe tbody tr th {\n",
       "        vertical-align: top;\n",
       "    }\n",
       "\n",
       "    .dataframe thead th {\n",
       "        text-align: right;\n",
       "    }\n",
       "</style>\n",
       "<table border=\"1\" class=\"dataframe\">\n",
       "  <thead>\n",
       "    <tr style=\"text-align: right;\">\n",
       "      <th></th>\n",
       "      <th>gender</th>\n",
       "      <th>age</th>\n",
       "      <th>neighbourhood</th>\n",
       "      <th>health_insurance</th>\n",
       "      <th>hypertension</th>\n",
       "      <th>diabetes</th>\n",
       "      <th>alcoholism</th>\n",
       "      <th>handicap</th>\n",
       "      <th>sms_received</th>\n",
       "      <th>no_show</th>\n",
       "    </tr>\n",
       "  </thead>\n",
       "  <tbody>\n",
       "    <tr>\n",
       "      <th>6</th>\n",
       "      <td>F</td>\n",
       "      <td>23.0</td>\n",
       "      <td>GOIABEIRAS</td>\n",
       "      <td>0</td>\n",
       "      <td>0</td>\n",
       "      <td>0</td>\n",
       "      <td>0</td>\n",
       "      <td>0</td>\n",
       "      <td>0</td>\n",
       "      <td>Yes</td>\n",
       "    </tr>\n",
       "    <tr>\n",
       "      <th>7</th>\n",
       "      <td>F</td>\n",
       "      <td>39.0</td>\n",
       "      <td>GOIABEIRAS</td>\n",
       "      <td>0</td>\n",
       "      <td>0</td>\n",
       "      <td>0</td>\n",
       "      <td>0</td>\n",
       "      <td>0</td>\n",
       "      <td>0</td>\n",
       "      <td>Yes</td>\n",
       "    </tr>\n",
       "    <tr>\n",
       "      <th>11</th>\n",
       "      <td>M</td>\n",
       "      <td>29.0</td>\n",
       "      <td>NOVA PALESTINA</td>\n",
       "      <td>0</td>\n",
       "      <td>0</td>\n",
       "      <td>0</td>\n",
       "      <td>0</td>\n",
       "      <td>0</td>\n",
       "      <td>1</td>\n",
       "      <td>Yes</td>\n",
       "    </tr>\n",
       "    <tr>\n",
       "      <th>17</th>\n",
       "      <td>F</td>\n",
       "      <td>40.0</td>\n",
       "      <td>CONQUISTA</td>\n",
       "      <td>1</td>\n",
       "      <td>0</td>\n",
       "      <td>0</td>\n",
       "      <td>0</td>\n",
       "      <td>0</td>\n",
       "      <td>0</td>\n",
       "      <td>Yes</td>\n",
       "    </tr>\n",
       "    <tr>\n",
       "      <th>20</th>\n",
       "      <td>F</td>\n",
       "      <td>30.0</td>\n",
       "      <td>NOVA PALESTINA</td>\n",
       "      <td>0</td>\n",
       "      <td>0</td>\n",
       "      <td>0</td>\n",
       "      <td>0</td>\n",
       "      <td>0</td>\n",
       "      <td>0</td>\n",
       "      <td>Yes</td>\n",
       "    </tr>\n",
       "  </tbody>\n",
       "</table>\n",
       "</div>"
      ],
      "text/plain": [
       "   gender   age   neighbourhood  health_insurance  hypertension  diabetes  \\\n",
       "6       F  23.0      GOIABEIRAS                 0             0         0   \n",
       "7       F  39.0      GOIABEIRAS                 0             0         0   \n",
       "11      M  29.0  NOVA PALESTINA                 0             0         0   \n",
       "17      F  40.0       CONQUISTA                 1             0         0   \n",
       "20      F  30.0  NOVA PALESTINA                 0             0         0   \n",
       "\n",
       "    alcoholism  handicap  sms_received no_show  \n",
       "6            0         0             0     Yes  \n",
       "7            0         0             0     Yes  \n",
       "11           0         0             1     Yes  \n",
       "17           0         0             0     Yes  \n",
       "20           0         0             0     Yes  "
      ]
     },
     "execution_count": 21,
     "metadata": {},
     "output_type": "execute_result"
    }
   ],
   "source": [
    "missed.head()"
   ]
  },
  {
   "cell_type": "code",
   "execution_count": 22,
   "id": "7f13db4c",
   "metadata": {},
   "outputs": [
    {
     "data": {
      "text/plain": [
       "79.8067440534892"
      ]
     },
     "execution_count": 22,
     "metadata": {},
     "output_type": "execute_result"
    }
   ],
   "source": [
    "attendance_percentage = ( attend.count().unique()[0] / (attend.count().unique()[0] + missed.count().unique()[0]) ) *100\n",
    "attendance_percentage"
   ]
  },
  {
   "cell_type": "code",
   "execution_count": 23,
   "id": "36b3e629",
   "metadata": {},
   "outputs": [
    {
     "data": {
      "text/plain": [
       "20.193255946510803"
      ]
     },
     "execution_count": 23,
     "metadata": {},
     "output_type": "execute_result"
    }
   ],
   "source": [
    "missed_percentage = 100 - attendance_percentage\n",
    "missed_percentage"
   ]
  },
  {
   "cell_type": "markdown",
   "id": "33f7504f",
   "metadata": {},
   "source": [
    "only 21% missed ther appointments "
   ]
  },
  {
   "cell_type": "code",
   "execution_count": 24,
   "id": "5da7746d",
   "metadata": {},
   "outputs": [
    {
     "data": {
      "image/png": "[encoded data removed]",
      "text/plain": [
       "<Figure size 360x360 with 1 Axes>"
      ]
     },
     "metadata": {},
     "output_type": "display_data"
    }
   ],
   "source": [
    "plt.figure(figsize=(5,5))\n",
    "df_attendance_percentage = [attendance_percentage, missed_percentage]\n",
    "label_attendance = ['attendance percentage','missing percentage',]\n",
    "distance = [0.2,0]\n",
    "colo = ['green', 'red']\n",
    "plt.pie(df_attendance_percentage , labels = label_attendance, explode= distance, autopct ='%2.1f%%', colors = colo)\n",
    "plt.title('Percentage of appointment attendance')\n",
    "plt.show();"
   ]
  },
  {
   "cell_type": "code",
   "execution_count": 25,
   "id": "464bdd38",
   "metadata": {},
   "outputs": [],
   "source": [
    "df.to_csv('no_show_clean2.csv', index=False) "
   ]
  },
  {
   "cell_type": "markdown",
   "id": "db996ba4",
   "metadata": {},
   "source": [
    "save  data to continue 2moro "
   ]
  },
  {
   "cell_type": "markdown",
   "id": "95a2cf44",
   "metadata": {},
   "source": [
    "plot data as per case study 2 section 13- conclusiona and visualize"
   ]
  },
  {
   "cell_type": "code",
   "execution_count": 26,
   "id": "2fda36bc",
   "metadata": {},
   "outputs": [
    {
     "data": {
      "image/png": "[encoded data removed]",
      "text/plain": [
       "<Figure size 432x288 with 1 Axes>"
      ]
     },
     "metadata": {
      "needs_background": "light"
     },
     "output_type": "display_data"
    }
   ],
   "source": [
    "locations = [1, 2] \n",
    "heights = [attend.count().unique()[0], missed.count().unique()[0]]\n",
    "labels = ['attend', 'missed']\n",
    "plt.bar(locations, heights, tick_label=labels)\n",
    "plt.title('percentage of appointments attending and missing ')\n",
    "plt.xlabel('attendance')\n",
    "plt.ylabel('number of patients');"
   ]
  },
  {
   "cell_type": "markdown",
   "id": "cb735d02",
   "metadata": {},
   "source": [
    "# Q2 / answer \n",
    "\n",
    "Q2 -effection of SMS recived on Patient attendance  ?"
   ]
  },
  {
   "cell_type": "code",
   "execution_count": 27,
   "id": "42fbc7a8",
   "metadata": {},
   "outputs": [
    {
     "data": {
      "text/plain": [
       "62510"
      ]
     },
     "execution_count": 27,
     "metadata": {},
     "output_type": "execute_result"
    }
   ],
   "source": [
    "attend_without_sms = attend.query('sms_received == 0').no_show.count()\n",
    "attend_without_sms"
   ]
  },
  {
   "cell_type": "code",
   "execution_count": 28,
   "id": "4610d29a",
   "metadata": {},
   "outputs": [
    {
     "data": {
      "text/plain": [
       "25698"
      ]
     },
     "execution_count": 28,
     "metadata": {},
     "output_type": "execute_result"
    }
   ],
   "source": [
    "attend_with_sms = attend.query('sms_received == 1').no_show.count()\n",
    "attend_with_sms"
   ]
  },
  {
   "cell_type": "markdown",
   "id": "ecf8f337",
   "metadata": {},
   "source": [
    "conferm the above numbers  as we can see ther is 62510 patients attend without recive sms and 25698 attend after recive sms \n",
    "that mean reciving sms is not so effective in this case "
   ]
  },
  {
   "cell_type": "code",
   "execution_count": 29,
   "id": "a153cbb1",
   "metadata": {},
   "outputs": [
    {
     "data": {
      "text/plain": [
       "sms_received\n",
       "0    62510\n",
       "1    25698\n",
       "Name: no_show, dtype: int64"
      ]
     },
     "execution_count": 29,
     "metadata": {},
     "output_type": "execute_result"
    }
   ],
   "source": [
    "attend.groupby('sms_received').no_show.count()"
   ]
  },
  {
   "cell_type": "code",
   "execution_count": 30,
   "id": "d7c53e75",
   "metadata": {},
   "outputs": [
    {
     "data": {
      "text/plain": [
       "sms_received\n",
       "0    12535\n",
       "1     9784\n",
       "Name: no_show, dtype: int64"
      ]
     },
     "execution_count": 30,
     "metadata": {},
     "output_type": "execute_result"
    }
   ],
   "source": [
    "missed.groupby('sms_received').no_show.count()"
   ]
  },
  {
   "cell_type": "code",
   "execution_count": 31,
   "id": "9d9e75eb",
   "metadata": {},
   "outputs": [
    {
     "data": {
      "text/plain": [
       "12535"
      ]
     },
     "execution_count": 31,
     "metadata": {},
     "output_type": "execute_result"
    }
   ],
   "source": [
    "missed_without_sms = missed.query('sms_received == 0').no_show.count()\n",
    "missed_without_sms"
   ]
  },
  {
   "cell_type": "code",
   "execution_count": 32,
   "id": "6c43f401",
   "metadata": {},
   "outputs": [
    {
     "data": {
      "text/plain": [
       "9784"
      ]
     },
     "execution_count": 32,
     "metadata": {},
     "output_type": "execute_result"
    }
   ],
   "source": [
    "missed_with_sms = missed.query('sms_received == 1').no_show.count()\n",
    "missed_with_sms"
   ]
  },
  {
   "cell_type": "markdown",
   "id": "1783b082",
   "metadata": {},
   "source": [
    "as we can see here ther is total number of 12535 patients missed ther appointment because thay dont recive sms and 9784 recived the sms and thay still not attend also that mean ther is no effect of reciving sms on missing the appointment \n"
   ]
  },
  {
   "cell_type": "code",
   "execution_count": 33,
   "id": "00c46370",
   "metadata": {},
   "outputs": [
    {
     "data": {
      "image/png": "[encoded data removed]",
      "text/plain": [
       "<Figure size 432x288 with 1 Axes>"
      ]
     },
     "metadata": {
      "needs_background": "light"
     },
     "output_type": "display_data"
    }
   ],
   "source": [
    "locations = [1,2,3,4] \n",
    "heights = [attend_without_sms, attend_with_sms, missed_without_sms, missed_with_sms ]\n",
    "labels = ['attend_0_sms', 'attend_1_sms','missed_0_sms' ,'missed_1_sms']\n",
    "plt.bar(locations, heights, tick_label=labels)\n",
    "plt.title('SMS-recived effect on attendance ')\n",
    "plt.xlabel('attendance status')\n",
    "plt.ylabel('number of patients ');"
   ]
  },
  {
   "cell_type": "markdown",
   "id": "43600f11",
   "metadata": {},
   "source": [
    "ther is astrange effect here most of the ppl who attend didnt recived amassage while the normal is to have higher chance to go to the appointment if you recived massage about appointment date to remind you "
   ]
  },
  {
   "cell_type": "markdown",
   "id": "fa8aa52e",
   "metadata": {},
   "source": [
    "# Q3. answer \n",
    "dose age effect attendance ?"
   ]
  },
  {
   "cell_type": "code",
   "execution_count": 34,
   "id": "790bf7f9",
   "metadata": {},
   "outputs": [],
   "source": [
    "youth_attendance = attend.query('age <= 50').count().unique()[0]\n",
    "old_attendance = attend.query('age > 50').count().unique()[0]"
   ]
  },
  {
   "cell_type": "code",
   "execution_count": 35,
   "id": "9f2ad367",
   "metadata": {},
   "outputs": [
    {
     "data": {
      "text/plain": [
       "29696"
      ]
     },
     "execution_count": 35,
     "metadata": {},
     "output_type": "execute_result"
    }
   ],
   "source": [
    "old_attendance"
   ]
  },
  {
   "cell_type": "code",
   "execution_count": 36,
   "id": "29a15fb5",
   "metadata": {},
   "outputs": [
    {
     "data": {
      "text/plain": [
       "58512"
      ]
     },
     "execution_count": 36,
     "metadata": {},
     "output_type": "execute_result"
    }
   ],
   "source": [
    "youth_attendance"
   ]
  },
  {
   "cell_type": "code",
   "execution_count": 37,
   "id": "5a7fd260",
   "metadata": {},
   "outputs": [
    {
     "data": {
      "text/plain": [
       "77.90796761823606"
      ]
     },
     "execution_count": 37,
     "metadata": {},
     "output_type": "execute_result"
    }
   ],
   "source": [
    "total_No_of_yoth = df.query('age <= 50').count().unique()[0]\n",
    "\n",
    "youth_attendance_percentage = (youth_attendance /(total_No_of_yoth)) *100\n",
    "youth_attendance_percentage"
   ]
  },
  {
   "cell_type": "code",
   "execution_count": 38,
   "id": "b7ad68a4",
   "metadata": {},
   "outputs": [
    {
     "data": {
      "text/plain": [
       "83.83253818140756"
      ]
     },
     "execution_count": 38,
     "metadata": {},
     "output_type": "execute_result"
    }
   ],
   "source": [
    "total_No_of_old = df.query('age > 50').count().unique()[0] \n",
    "old_attendacne_percentage = (old_attendance /(total_No_of_old)) *100\n",
    "old_attendacne_percentage"
   ]
  },
  {
   "cell_type": "markdown",
   "id": "08ff5ea7",
   "metadata": {},
   "source": [
    "as we see old patients who has age more than 50 years old have slightly more percantage of attendance than youth patients according to ther proportion in the given dataset by 7 % more "
   ]
  },
  {
   "cell_type": "code",
   "execution_count": 39,
   "id": "fc030082",
   "metadata": {},
   "outputs": [
    {
     "data": {
      "image/png": "[encoded data removed]",
      "text/plain": [
       "<Figure size 432x288 with 1 Axes>"
      ]
     },
     "metadata": {
      "needs_background": "light"
     },
     "output_type": "display_data"
    }
   ],
   "source": [
    "locations = [1,2] \n",
    "heights = [youth_attendance_percentage , old_attendacne_percentage ]\n",
    "labels = ['youth_attendance_percentage', 'old_attendacne_percentag']\n",
    "plt.bar(locations, heights, tick_label=labels)\n",
    "plt.title('dose old paitence are more likely to attend')\n",
    "plt.xlabel('paitients statues ')\n",
    "plt.ylabel('attendance percentage ');"
   ]
  },
  {
   "cell_type": "markdown",
   "id": "686e4074",
   "metadata": {},
   "source": [
    "# Q4 answer \n",
    "\n",
    "dose gender effect attendance ?"
   ]
  },
  {
   "cell_type": "code",
   "execution_count": 40,
   "id": "5350da28",
   "metadata": {},
   "outputs": [
    {
     "data": {
      "text/plain": [
       "gender\n",
       "F    57246\n",
       "M    30962\n",
       "Name: no_show, dtype: int64"
      ]
     },
     "execution_count": 40,
     "metadata": {},
     "output_type": "execute_result"
    }
   ],
   "source": [
    "no_of_gender_attend  = attend.groupby('gender').no_show.count()\n",
    "no_of_gender_attend"
   ]
  },
  {
   "cell_type": "code",
   "execution_count": 41,
   "id": "d9e8e39a",
   "metadata": {},
   "outputs": [
    {
     "data": {
      "text/plain": [
       "30962"
      ]
     },
     "execution_count": 41,
     "metadata": {},
     "output_type": "execute_result"
    }
   ],
   "source": [
    "no_of_male_attend  = attend.query('gender == \"M\" ').count().unique()[0]\n",
    "no_of_male_attend"
   ]
  },
  {
   "cell_type": "code",
   "execution_count": 42,
   "id": "5e067964",
   "metadata": {},
   "outputs": [
    {
     "data": {
      "text/plain": [
       "7725"
      ]
     },
     "execution_count": 42,
     "metadata": {},
     "output_type": "execute_result"
    }
   ],
   "source": [
    "no_of_male_missed = missed.query('gender == \"M\" ').count().unique()[0]\n",
    "no_of_male_missed"
   ]
  },
  {
   "cell_type": "code",
   "execution_count": 43,
   "id": "8613090f",
   "metadata": {},
   "outputs": [
    {
     "data": {
      "text/plain": [
       "57246"
      ]
     },
     "execution_count": 43,
     "metadata": {},
     "output_type": "execute_result"
    }
   ],
   "source": [
    "no_of_femel_attend  = attend.query('gender == \"F\" ').count().unique()[0]\n",
    "no_of_femel_attend"
   ]
  },
  {
   "cell_type": "code",
   "execution_count": 44,
   "id": "a338f1d7",
   "metadata": {},
   "outputs": [
    {
     "data": {
      "text/plain": [
       "14594"
      ]
     },
     "execution_count": 44,
     "metadata": {},
     "output_type": "execute_result"
    }
   ],
   "source": [
    "no_of_femel_missed = missed.query('gender == \"F\" ').count().unique()[0]\n",
    "no_of_femel_missed"
   ]
  },
  {
   "cell_type": "code",
   "execution_count": 45,
   "id": "e790f04d",
   "metadata": {},
   "outputs": [
    {
     "data": {
      "text/plain": [
       "79.68541202672606"
      ]
     },
     "execution_count": 45,
     "metadata": {},
     "output_type": "execute_result"
    }
   ],
   "source": [
    "femel_percentage_of_attend = no_of_femel_attend /(no_of_femel_attend + no_of_femel_missed)*100\n",
    "femel_percentage_of_attend"
   ]
  },
  {
   "cell_type": "code",
   "execution_count": 46,
   "id": "b89c99a9",
   "metadata": {},
   "outputs": [
    {
     "data": {
      "text/plain": [
       "80.03205211052808"
      ]
     },
     "execution_count": 46,
     "metadata": {},
     "output_type": "execute_result"
    }
   ],
   "source": [
    "male_percentage_of_attend = no_of_male_attend /(no_of_male_attend + no_of_male_missed)*100\n",
    "male_percentage_of_attend"
   ]
  },
  {
   "cell_type": "markdown",
   "id": "afa79e53",
   "metadata": {},
   "source": [
    "we see that ther is slightly diferance in attendance persentage between male and femel which dose not effect attendance "
   ]
  },
  {
   "cell_type": "code",
   "execution_count": 47,
   "id": "581bf833",
   "metadata": {},
   "outputs": [
    {
     "data": {
      "image/png": "[encoded data removed]",
      "text/plain": [
       "<Figure size 432x288 with 1 Axes>"
      ]
     },
     "metadata": {
      "needs_background": "light"
     },
     "output_type": "display_data"
    }
   ],
   "source": [
    "locations = [1,2] \n",
    "heights = [femel_percentage_of_attend , male_percentage_of_attend ]\n",
    "labels = ['femel_percentage_of_attend', 'male_percentage_of_attend']\n",
    "plt.bar(locations, heights, tick_label=labels , width= 0.5)\n",
    "plt.title('dose gender effect attendance ? ')\n",
    "plt.xlabel('Gender')\n",
    "plt.ylabel('attendance percentage');"
   ]
  },
  {
   "cell_type": "markdown",
   "id": "2c783d80",
   "metadata": {},
   "source": [
    "as we can see that ther is no relation between gender and attend or not attended to the appointment "
   ]
  },
  {
   "cell_type": "markdown",
   "id": "603288d6",
   "metadata": {},
   "source": [
    "# Q5 /answer \n",
    "\n",
    "dose desieces effect attendance ?\n",
    "\n",
    "hypertension / diabetes\t/ handicap"
   ]
  },
  {
   "cell_type": "markdown",
   "id": "3861751a",
   "metadata": {},
   "source": [
    "# hypertension"
   ]
  },
  {
   "cell_type": "code",
   "execution_count": 48,
   "id": "f0b3d04a",
   "metadata": {},
   "outputs": [
    {
     "data": {
      "text/plain": [
       "hypertension\n",
       "0    70179\n",
       "1    18029\n",
       "Name: no_show, dtype: int64"
      ]
     },
     "execution_count": 48,
     "metadata": {},
     "output_type": "execute_result"
    }
   ],
   "source": [
    "no_of_hypertension_attend  = attend.groupby('hypertension').no_show.count()\n",
    "no_of_hypertension_attend"
   ]
  },
  {
   "cell_type": "code",
   "execution_count": 49,
   "id": "a91733c4",
   "metadata": {},
   "outputs": [
    {
     "data": {
      "text/plain": [
       "70179"
      ]
     },
     "execution_count": 49,
     "metadata": {},
     "output_type": "execute_result"
    }
   ],
   "source": [
    "No_0_hypertention_attend = attend.query(' hypertension == 0 ').count().unique()[0]\n",
    "No_0_hypertention_attend"
   ]
  },
  {
   "cell_type": "code",
   "execution_count": 50,
   "id": "b1c9414a",
   "metadata": {},
   "outputs": [
    {
     "data": {
      "text/plain": [
       "18547"
      ]
     },
     "execution_count": 50,
     "metadata": {},
     "output_type": "execute_result"
    }
   ],
   "source": [
    "No_0_hypertention_missed = missed.query(' hypertension == 0 ').count().unique()[0]\n",
    "No_0_hypertention_missed"
   ]
  },
  {
   "cell_type": "code",
   "execution_count": 51,
   "id": "50f48781",
   "metadata": {},
   "outputs": [
    {
     "data": {
      "text/plain": [
       "18029"
      ]
     },
     "execution_count": 51,
     "metadata": {},
     "output_type": "execute_result"
    }
   ],
   "source": [
    "No_1_hypertention_attend = attend.query(' hypertension == 1 ').count().unique()[0]\n",
    "No_1_hypertention_attend"
   ]
  },
  {
   "cell_type": "code",
   "execution_count": 52,
   "id": "511db115",
   "metadata": {},
   "outputs": [
    {
     "data": {
      "text/plain": [
       "3772"
      ]
     },
     "execution_count": 52,
     "metadata": {},
     "output_type": "execute_result"
    }
   ],
   "source": [
    "No_1_hypertention_missed = missed.query(' hypertension == 1 ').count().unique()[0]\n",
    "No_1_hypertention_missed"
   ]
  },
  {
   "cell_type": "code",
   "execution_count": 53,
   "id": "29394871",
   "metadata": {},
   "outputs": [
    {
     "data": {
      "text/plain": [
       "17.301958625751112"
      ]
     },
     "execution_count": 53,
     "metadata": {},
     "output_type": "execute_result"
    }
   ],
   "source": [
    "percentage_1_hypertention_missed = No_1_hypertention_missed / (No_1_hypertention_missed + No_1_hypertention_attend)*100\n",
    "percentage_1_hypertention_missed"
   ]
  },
  {
   "cell_type": "code",
   "execution_count": 54,
   "id": "0b8be0f2",
   "metadata": {},
   "outputs": [
    {
     "data": {
      "text/plain": [
       "20.903680995424114"
      ]
     },
     "execution_count": 54,
     "metadata": {},
     "output_type": "execute_result"
    }
   ],
   "source": [
    "percentage_0_hypertention_missed = No_0_hypertention_missed / (No_0_hypertention_missed + No_0_hypertention_attend) *100\n",
    "percentage_0_hypertention_missed"
   ]
  },
  {
   "cell_type": "markdown",
   "id": "be9584e9",
   "metadata": {},
   "source": [
    "having hypertension dose not effect attendance"
   ]
  },
  {
   "cell_type": "code",
   "execution_count": 55,
   "id": "33c07bbd",
   "metadata": {},
   "outputs": [
    {
     "data": {
      "image/png": "[encoded data removed]",
      "text/plain": [
       "<Figure size 432x288 with 1 Axes>"
      ]
     },
     "metadata": {
      "needs_background": "light"
     },
     "output_type": "display_data"
    }
   ],
   "source": [
    "locations = [1,2] \n",
    "heights = [percentage_1_hypertention_missed , percentage_0_hypertention_missed ]\n",
    "labels = ['percentage_having_hypertention_missed', 'percentage_no_hypertention_missed']\n",
    "plt.bar(locations, heights, tick_label=labels , width= 0.4)\n",
    "plt.title('dose having hypertension effect attendance ? ')\n",
    "plt.xlabel('hypertension')\n",
    "plt.ylabel('missing percentage');"
   ]
  },
  {
   "cell_type": "markdown",
   "id": "f87cf293",
   "metadata": {},
   "source": [
    "we see that having hypertension is not effecting attendance ther is aslightly differance \n"
   ]
  },
  {
   "cell_type": "markdown",
   "id": "9a693ae6",
   "metadata": {},
   "source": [
    "# diabetes"
   ]
  },
  {
   "cell_type": "code",
   "execution_count": 56,
   "id": "630319f4",
   "metadata": {},
   "outputs": [
    {
     "data": {
      "text/plain": [
       "102584"
      ]
     },
     "execution_count": 56,
     "metadata": {},
     "output_type": "execute_result"
    }
   ],
   "source": [
    "total_No_of_0_diapets = df.query('diabetes == 0').count().unique()[0]\n",
    "total_No_of_0_diapets"
   ]
  },
  {
   "cell_type": "code",
   "execution_count": 57,
   "id": "3579b4a9",
   "metadata": {},
   "outputs": [
    {
     "data": {
      "text/plain": [
       "7943"
      ]
     },
     "execution_count": 57,
     "metadata": {},
     "output_type": "execute_result"
    }
   ],
   "source": [
    "total_No_of_1_diapets = df.query('diabetes == 1').count().unique()[0]\n",
    "total_No_of_1_diapets"
   ]
  },
  {
   "cell_type": "code",
   "execution_count": 58,
   "id": "88774b2f",
   "metadata": {},
   "outputs": [
    {
     "data": {
      "text/plain": [
       "20889"
      ]
     },
     "execution_count": 58,
     "metadata": {},
     "output_type": "execute_result"
    }
   ],
   "source": [
    "No_of_0_diapets_missed = missed.query('diabetes == 0').count().unique()[0]\n",
    "No_of_0_diapets_missed"
   ]
  },
  {
   "cell_type": "code",
   "execution_count": 59,
   "id": "4e095578",
   "metadata": {},
   "outputs": [
    {
     "data": {
      "text/plain": [
       "1430"
      ]
     },
     "execution_count": 59,
     "metadata": {},
     "output_type": "execute_result"
    }
   ],
   "source": [
    "No_of_1_diapets_missed = missed.query('diabetes == 1').count().unique()[0]\n",
    "No_of_1_diapets_missed"
   ]
  },
  {
   "cell_type": "markdown",
   "id": "22d5df7a",
   "metadata": {},
   "source": [
    "call the percentage fuction as per reviewer request "
   ]
  },
  {
   "cell_type": "code",
   "execution_count": 60,
   "id": "7a504e5e",
   "metadata": {},
   "outputs": [
    {
     "data": {
      "text/plain": [
       "(20, 18)"
      ]
     },
     "execution_count": 60,
     "metadata": {},
     "output_type": "execute_result"
    }
   ],
   "source": [
    "missed_percentage = percentage(m0=No_of_0_diapets_missed, m0t=total_No_of_0_diapets, m1=No_of_1_diapets_missed,\n",
    "                               m1t=total_No_of_1_diapets )\n",
    "missed_percentage"
   ]
  },
  {
   "cell_type": "code",
   "execution_count": 61,
   "id": "de8a8447",
   "metadata": {},
   "outputs": [
    {
     "data": {
      "image/png": "[encoded data removed]",
      "text/plain": [
       "<Figure size 576x360 with 1 Axes>"
      ]
     },
     "metadata": {
      "needs_background": "light"
     },
     "output_type": "display_data"
    }
   ],
   "source": [
    "fig = plt.figure(figsize=(8,5))\n",
    "locations = [1,2] \n",
    "heights = [20,18]\n",
    "labels = ['percentage_0_diapets_missed', 'percentage_1_diapets_missed']\n",
    "plt.bar(locations, heights, tick_label=labels , width= 0.4)\n",
    "plt.title('dose having diapets effect attendance ? ')\n",
    "plt.xlabel('diapets')\n",
    "plt.ylabel('missing percentage');"
   ]
  },
  {
   "cell_type": "markdown",
   "id": "608fc2cc",
   "metadata": {},
   "source": [
    "also having diabetes dose not effect attendance "
   ]
  },
  {
   "cell_type": "markdown",
   "id": "2a00fa96",
   "metadata": {},
   "source": [
    "# hadicap\n"
   ]
  },
  {
   "cell_type": "code",
   "execution_count": 62,
   "id": "2d67fa48",
   "metadata": {},
   "outputs": [
    {
     "data": {
      "text/plain": [
       "407"
      ]
     },
     "execution_count": 62,
     "metadata": {},
     "output_type": "execute_result"
    }
   ],
   "source": [
    "no_of_1_handicap_missed  = missed.query('handicap in [1, 2, 3 ,4]').count().unique()[0]\n",
    "no_of_1_handicap_missed"
   ]
  },
  {
   "cell_type": "code",
   "execution_count": 63,
   "id": "bd8238ef",
   "metadata": {},
   "outputs": [
    {
     "data": {
      "text/plain": [
       "2241"
      ]
     },
     "execution_count": 63,
     "metadata": {},
     "output_type": "execute_result"
    }
   ],
   "source": [
    "total_number_of_1_handicap = df.query('handicap in [1, 2, 3 ,4]').count().unique()[0]\n",
    "total_number_of_1_handicap"
   ]
  },
  {
   "cell_type": "code",
   "execution_count": 64,
   "id": "f57a6f9c",
   "metadata": {},
   "outputs": [
    {
     "data": {
      "text/plain": [
       "21912"
      ]
     },
     "execution_count": 64,
     "metadata": {},
     "output_type": "execute_result"
    }
   ],
   "source": [
    "no_of_0_handicap_missed = missed.query('handicap == 0').count().unique()[0]\n",
    "no_of_0_handicap_missed"
   ]
  },
  {
   "cell_type": "code",
   "execution_count": 65,
   "id": "07f9e244",
   "metadata": {},
   "outputs": [
    {
     "data": {
      "text/plain": [
       "108286"
      ]
     },
     "execution_count": 65,
     "metadata": {},
     "output_type": "execute_result"
    }
   ],
   "source": [
    "total_number_of_0_handicap =  df.query('handicap == 0 ').count().unique()[0]\n",
    "total_number_of_0_handicap"
   ]
  },
  {
   "cell_type": "code",
   "execution_count": 66,
   "id": "593a76e8",
   "metadata": {},
   "outputs": [
    {
     "data": {
      "text/plain": [
       "(20, 18)"
      ]
     },
     "execution_count": 66,
     "metadata": {},
     "output_type": "execute_result"
    }
   ],
   "source": [
    "handicap_missed_percentage = percentage(m0=no_of_0_handicap_missed, m0t=total_number_of_0_handicap, m1=no_of_1_handicap_missed,\n",
    "                               m1t=total_number_of_1_handicap)\n",
    "handicap_missed_percentage"
   ]
  },
  {
   "cell_type": "code",
   "execution_count": 69,
   "id": "6aa998e0",
   "metadata": {},
   "outputs": [
    {
     "data": {
      "image/png": "[encoded data removed]",
      "text/plain": [
       "<Figure size 432x288 with 1 Axes>"
      ]
     },
     "metadata": {
      "needs_background": "light"
     },
     "output_type": "display_data"
    }
   ],
   "source": [
    "locations = [1,2] \n",
    "heights = [20 , 18 ]\n",
    "labels = ['percentage_of_0_handicap_missed', 'percentage_of_1_handicap_missed']\n",
    "plt.bar(locations, heights, tick_label=labels , width= 0.5)\n",
    "plt.title('dose having handicap effect attendance ? ')\n",
    "plt.xlabel('handicap')\n",
    "plt.ylabel('missing percentage');"
   ]
  },
  {
   "cell_type": "markdown",
   "id": "f8b761fd",
   "metadata": {},
   "source": [
    "handicap dose not effect attendance"
   ]
  },
  {
   "cell_type": "markdown",
   "id": "5c53f69c",
   "metadata": {},
   "source": [
    "# Q6 answer \n",
    "\n",
    "other factors   \n",
    "\n",
    "# alcoholism  / health_insurance\t"
   ]
  },
  {
   "cell_type": "markdown",
   "id": "e9252837",
   "metadata": {},
   "source": [
    "# alchoholism"
   ]
  },
  {
   "cell_type": "code",
   "execution_count": 70,
   "id": "c1f7fad1",
   "metadata": {},
   "outputs": [
    {
     "data": {
      "text/plain": [
       "(20, 20)"
      ]
     },
     "execution_count": 70,
     "metadata": {},
     "output_type": "execute_result"
    }
   ],
   "source": [
    "No_of_alcoholism_missed = missed.query('alcoholism == 1 ').count().unique()[0]\n",
    "\n",
    "No_of_no_alcholism_missed = missed.query('alcoholism == 0').count().unique()[0]\n",
    "\n",
    "total_No_of_alcholism = df.query('alcoholism == 1').count().unique()[0]\n",
    "\n",
    "total_No_of_no_alcholism = df.query('alcoholism == 0').count().unique()[0]\n",
    "\n",
    "percentage_of_alcholism_missed = (No_of_alcoholism_missed / total_No_of_alcholism) *100\n",
    "\n",
    "percentage_of_no_alcholism_missed = (No_of_no_alcholism_missed / total_No_of_no_alcholism) *100\n",
    "\n",
    "percentage_of_alcholism_missed.astype(int) , percentage_of_no_alcholism_missed.astype(int)"
   ]
  },
  {
   "cell_type": "code",
   "execution_count": 71,
   "id": "0b6bd3e9",
   "metadata": {},
   "outputs": [
    {
     "data": {
      "image/png": "[encoded data removed]",
      "text/plain": [
       "<Figure size 432x288 with 1 Axes>"
      ]
     },
     "metadata": {
      "needs_background": "light"
     },
     "output_type": "display_data"
    }
   ],
   "source": [
    "locations = [1,2] \n",
    "heights = [percentage_of_alcholism_missed , percentage_of_no_alcholism_missed ]\n",
    "labels = ['percentage_of_alcholism_missed', 'percentage_of_no_alcholism_missed']\n",
    "plt.bar(locations, heights, tick_label=labels , width= 0.5)\n",
    "plt.title('dose alcholism effect attendance ? ')\n",
    "plt.xlabel('alcholism')\n",
    "plt.ylabel('missing percentage');"
   ]
  },
  {
   "cell_type": "markdown",
   "id": "2efa047f",
   "metadata": {},
   "source": [
    "alchol dose not effect attendance"
   ]
  },
  {
   "cell_type": "markdown",
   "id": "717e5423",
   "metadata": {},
   "source": [
    "# health_insurance"
   ]
  },
  {
   "cell_type": "code",
   "execution_count": 72,
   "id": "ad83cdcd",
   "metadata": {},
   "outputs": [
    {
     "data": {
      "text/plain": [
       "2578"
      ]
     },
     "execution_count": 72,
     "metadata": {},
     "output_type": "execute_result"
    }
   ],
   "source": [
    "No_of_1_helth_insurance_missed = missed.query('health_insurance == 1').count().unique()[0]\n",
    "No_of_1_helth_insurance_missed "
   ]
  },
  {
   "cell_type": "code",
   "execution_count": 73,
   "id": "1f7b3c06",
   "metadata": {},
   "outputs": [
    {
     "data": {
      "text/plain": [
       "19741"
      ]
     },
     "execution_count": 73,
     "metadata": {},
     "output_type": "execute_result"
    }
   ],
   "source": [
    "No_of_0_helth_insurance_missed = missed.query('health_insurance == 0').count().unique()[0]\n",
    "No_of_0_helth_insurance_missed"
   ]
  },
  {
   "cell_type": "code",
   "execution_count": 74,
   "id": "0a03e018",
   "metadata": {},
   "outputs": [
    {
     "data": {
      "text/plain": [
       "10861"
      ]
     },
     "execution_count": 74,
     "metadata": {},
     "output_type": "execute_result"
    }
   ],
   "source": [
    "total_No_of_1_helth_insurance = df.query('health_insurance == 1').count().unique()[0]\n",
    "total_No_of_1_helth_insurance"
   ]
  },
  {
   "cell_type": "code",
   "execution_count": 75,
   "id": "2a085cf6",
   "metadata": {},
   "outputs": [
    {
     "data": {
      "text/plain": [
       "99666"
      ]
     },
     "execution_count": 75,
     "metadata": {},
     "output_type": "execute_result"
    }
   ],
   "source": [
    "total_No_of_0_helth_insurance = df.query('health_insurance == 0').count().unique()[0]\n",
    "total_No_of_0_helth_insurance"
   ]
  },
  {
   "cell_type": "code",
   "execution_count": 76,
   "id": "8d168276",
   "metadata": {},
   "outputs": [
    {
     "data": {
      "text/plain": [
       "19"
      ]
     },
     "execution_count": 76,
     "metadata": {},
     "output_type": "execute_result"
    }
   ],
   "source": [
    "percentage_of_0_helth_insurance_missed = No_of_0_helth_insurance_missed / total_No_of_0_helth_insurance *100\n",
    "percentage_of_0_helth_insurance_missed.astype(int)"
   ]
  },
  {
   "cell_type": "code",
   "execution_count": 77,
   "id": "f94b640a",
   "metadata": {},
   "outputs": [
    {
     "data": {
      "text/plain": [
       "23"
      ]
     },
     "execution_count": 77,
     "metadata": {},
     "output_type": "execute_result"
    }
   ],
   "source": [
    "percentage_of_1_helth_insurance_missed = No_of_1_helth_insurance_missed / total_No_of_1_helth_insurance *100\n",
    "percentage_of_1_helth_insurance_missed.astype(int)"
   ]
  },
  {
   "cell_type": "code",
   "execution_count": 78,
   "id": "404a7687",
   "metadata": {},
   "outputs": [
    {
     "data": {
      "image/png": "[encoded data removed]",
      "text/plain": [
       "<Figure size 432x288 with 1 Axes>"
      ]
     },
     "metadata": {
      "needs_background": "light"
     },
     "output_type": "display_data"
    }
   ],
   "source": [
    "locations = [1,2] \n",
    "heights = [percentage_of_0_helth_insurance_missed , percentage_of_1_helth_insurance_missed ]\n",
    "labels = ['percentage_of_0_helth_insurance_missed', 'percentage_of_1_helth_insurance']\n",
    "plt.bar(locations, heights, tick_label=labels , width= 0.5)\n",
    "plt.title('dose helth_insurance effect attendance ? ')\n",
    "plt.xlabel('helth insurance')\n",
    "plt.ylabel('missing percentage');"
   ]
  },
  {
   "cell_type": "markdown",
   "id": "31abecde",
   "metadata": {},
   "source": [
    "we can see that ppl who has helth insurance are 4 % more likely to missed the appointments "
   ]
  },
  {
   "cell_type": "markdown",
   "id": "8071458a",
   "metadata": {},
   "source": [
    "# Conclusions\n"
   ]
  },
  {
   "cell_type": "markdown",
   "id": "c717b870",
   "metadata": {},
   "source": [
    "we can see that there are more ppl attend to there appointment than who missed it , which is a good thing\n",
    "receiving SMS has a strange relationship as ppl who most attend didnt recive massages which i thought early it will be critical thing but the data is completly opisite \n",
    "\n",
    "old people are more accurate to attend their appointment by 7%"
   ]
  },
  {
   "cell_type": "markdown",
   "id": "e05ce92f",
   "metadata": {},
   "source": [
    "# limitation\n"
   ]
  },
  {
   "cell_type": "markdown",
   "id": "826814df",
   "metadata": {},
   "source": [
    "most of the characteristics have a similar slightly effect which is not odd enough to detect like at the begining of the project \n",
    "i thought that reciving sms will be the most valuble way to make ppl attend the most but that was strange to me to \n",
    "have completly the opesit "
   ]
  }
 ],
 "metadata": {
  "kernelspec": {
   "display_name": "Python 3",
   "language": "python",
   "name": "python3"
  },
  "language_info": {
   "codemirror_mode": {
    "name": "ipython",
    "version": 3
   },
   "file_extension": ".py",
   "mimetype": "text/x-python",
   "name": "python",
   "nbconvert_exporter": "python",
   "pygments_lexer": "ipython3",
   "version": "3.8.8"
  }
 },
 "nbformat": 4,
 "nbformat_minor": 5
}
